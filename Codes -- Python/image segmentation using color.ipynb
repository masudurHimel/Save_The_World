{
 "cells": [
  {
   "cell_type": "code",
   "execution_count": 57,
   "metadata": {},
   "outputs": [],
   "source": [
    "import cv2 \n",
    "import numpy as np "
   ]
  },
  {
   "cell_type": "code",
   "execution_count": 60,
   "metadata": {},
   "outputs": [],
   "source": [
    "# Webcamera no 0 is used to capture the frames \n",
    "cap = cv2.imread(\"../data/Fire2.jpg\") \n",
    "cap = cv2.resize(cap,(400,300))"
   ]
  },
  {
   "cell_type": "code",
   "execution_count": 61,
   "metadata": {
    "scrolled": false
   },
   "outputs": [
    {
     "name": "stdout",
     "output_type": "stream",
     "text": [
      "[[[0 0 0]\n",
      "  [0 0 0]\n",
      "  [0 0 0]\n",
      "  ...\n",
      "  [0 0 0]\n",
      "  [0 0 0]\n",
      "  [0 0 0]]\n",
      "\n",
      " [[0 0 0]\n",
      "  [0 0 0]\n",
      "  [0 0 0]\n",
      "  ...\n",
      "  [0 0 0]\n",
      "  [0 0 0]\n",
      "  [0 0 0]]\n",
      "\n",
      " [[0 0 0]\n",
      "  [0 0 0]\n",
      "  [0 0 0]\n",
      "  ...\n",
      "  [0 0 0]\n",
      "  [0 0 0]\n",
      "  [0 0 0]]\n",
      "\n",
      " ...\n",
      "\n",
      " [[0 0 0]\n",
      "  [0 0 0]\n",
      "  [0 0 0]\n",
      "  ...\n",
      "  [0 0 0]\n",
      "  [0 0 0]\n",
      "  [0 0 0]]\n",
      "\n",
      " [[0 0 0]\n",
      "  [0 0 0]\n",
      "  [0 0 0]\n",
      "  ...\n",
      "  [0 0 0]\n",
      "  [0 0 0]\n",
      "  [0 0 0]]\n",
      "\n",
      " [[0 0 0]\n",
      "  [0 0 0]\n",
      "  [0 0 0]\n",
      "  ...\n",
      "  [0 0 0]\n",
      "  [0 0 0]\n",
      "  [0 0 0]]]\n"
     ]
    }
   ],
   "source": [
    "hsv = cv2.cvtColor(cap, cv2.COLOR_BGR2HSV) \n",
    "\n",
    "lower_red = np.array([0,121,167 ]) \n",
    "upper_red = np.array([38,232,255]) \n",
    "\n",
    "#experiment\n",
    "filled_after = cap.copy()\n",
    "cv2.drawContours(filled_after, [mask], 0, (0,255,0), -1)\n",
    "\n",
    "#0,121,167  38,232,255\n",
    "# Here we are defining range of bluecolor in HSV \n",
    "# This creates a mask of blue coloured \n",
    "# objects found in the frame. \n",
    "mask = cv2.inRange(hsv, lower_red, upper_red) \n",
    "\n",
    "# The bitwise and of the frame and mask is done so \n",
    "# that only the blue coloured objects are highlighted \n",
    "# and stored in res \n",
    "res = cv2.bitwise_and(cap,cap, mask= mask) \n",
    "print(res)\n",
    "cv2.imshow('frame',cap) \n",
    "cv2.imshow('mask',mask) \n",
    "cv2.imshow('res',res) \n",
    "\n",
    "# This displays the frame, mask \n",
    "# and res which we created in 3 separate windows. \n",
    "k = cv2.waitKey(0) & 0xFF\n",
    "\n",
    "\n",
    "# Destroys all of the HighGUI windows.\n",
    "cv2.destroyAllWindows() \n",
    "\n",
    "# release the captured frame \n",
    "#cap.release() \n"
   ]
  },
  {
   "cell_type": "code",
   "execution_count": null,
   "metadata": {},
   "outputs": [],
   "source": []
  }
 ],
 "metadata": {
  "kernelspec": {
   "display_name": "Python 3",
   "language": "python",
   "name": "python3"
  },
  "language_info": {
   "codemirror_mode": {
    "name": "ipython",
    "version": 3
   },
   "file_extension": ".py",
   "mimetype": "text/x-python",
   "name": "python",
   "nbconvert_exporter": "python",
   "pygments_lexer": "ipython3",
   "version": "3.7.3"
  }
 },
 "nbformat": 4,
 "nbformat_minor": 2
}
