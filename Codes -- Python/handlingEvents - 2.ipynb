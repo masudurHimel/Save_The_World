{
 "cells": [
  {
   "cell_type": "code",
   "execution_count": 1,
   "metadata": {},
   "outputs": [],
   "source": [
    "import numpy as np\n",
    "import cv2 "
   ]
  },
  {
   "cell_type": "code",
   "execution_count": 2,
   "metadata": {},
   "outputs": [
    {
     "name": "stdout",
     "output_type": "stream",
     "text": [
      "['EVENT_FLAG_ALTKEY', 'EVENT_FLAG_CTRLKEY', 'EVENT_FLAG_LBUTTON', 'EVENT_FLAG_MBUTTON', 'EVENT_FLAG_RBUTTON', 'EVENT_FLAG_SHIFTKEY', 'EVENT_LBUTTONDBLCLK', 'EVENT_LBUTTONDOWN', 'EVENT_LBUTTONUP', 'EVENT_MBUTTONDBLCLK', 'EVENT_MBUTTONDOWN', 'EVENT_MBUTTONUP', 'EVENT_MOUSEHWHEEL', 'EVENT_MOUSEMOVE', 'EVENT_MOUSEWHEEL', 'EVENT_RBUTTONDBLCLK', 'EVENT_RBUTTONDOWN', 'EVENT_RBUTTONUP']\n"
     ]
    }
   ],
   "source": [
    "event = [i for i in dir(cv2) if 'EVENT' in i]\n",
    "print(event)"
   ]
  },
  {
   "cell_type": "code",
   "execution_count": 3,
   "metadata": {},
   "outputs": [],
   "source": [
    "def clickEvent(event,x,y,flags,param):\n",
    "    if event == cv2.EVENT_LBUTTONDOWN:\n",
    "        print(x,' , ',y)\n",
    "        strXY = str(x)+ ' , '+ str(y)\n",
    "        font = cv2.FONT_HERSHEY_COMPLEX\n",
    "        cv2.putText(img,strXY,(x,y),font,.75,(255,255,0),2)\n",
    "        print(cv2.imshow('image',img))\n",
    "        \n",
    "    if event == cv2.EVENT_RBUTTONDOWN:\n",
    "        print(x,' , ',y)\n",
    "        strXY = str(x)+ ' , '+ str(y)\n",
    "        font = cv2.FONT_HERSHEY_COMPLEX\n",
    "        cv2.putText(img,strXY,(x,y),font,.75,(0,0,255),2)\n",
    "        print(cv2.imshow('image',img))"
   ]
  },
  {
   "cell_type": "code",
   "execution_count": 12,
   "metadata": {},
   "outputs": [
    {
     "name": "stdout",
     "output_type": "stream",
     "text": [
      "521  ,  209\n",
      "None\n",
      "551  ,  245\n",
      "None\n",
      "324  ,  235\n",
      "None\n",
      "433  ,  259\n",
      "None\n"
     ]
    }
   ],
   "source": [
    "img = cv2.imread('images/1.jpeg',1)\n",
    "cv2.imshow('image',img)\n",
    "cv2.setMouseCallback('image',clickEvent)\n",
    "cv2.waitKey(0)\n",
    "cv2.destroyAllWindows()"
   ]
  },
  {
   "cell_type": "code",
   "execution_count": null,
   "metadata": {},
   "outputs": [],
   "source": []
  }
 ],
 "metadata": {
  "kernelspec": {
   "display_name": "Python 3",
   "language": "python",
   "name": "python3"
  },
  "language_info": {
   "codemirror_mode": {
    "name": "ipython",
    "version": 3
   },
   "file_extension": ".py",
   "mimetype": "text/x-python",
   "name": "python",
   "nbconvert_exporter": "python",
   "pygments_lexer": "ipython3",
   "version": "3.7.3"
  }
 },
 "nbformat": 4,
 "nbformat_minor": 2
}
