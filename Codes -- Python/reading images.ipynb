{
 "cells": [
  {
   "cell_type": "code",
   "execution_count": 2,
   "metadata": {},
   "outputs": [],
   "source": [
    "import cv2\n",
    "import pandas as pd\n",
    "import numpy as np"
   ]
  },
  {
   "cell_type": "code",
   "execution_count": 10,
   "metadata": {},
   "outputs": [
    {
     "name": "stdout",
     "output_type": "stream",
     "text": [
      "[[ 58  58  43 ... 178 170 175]\n",
      " [ 49  48  46 ... 176 176 178]\n",
      " [ 38  49  49 ... 169 170 170]\n",
      " ...\n",
      " [ 22  13  19 ...  15   9   5]\n",
      " [ 35  31  44 ...  34  36  27]\n",
      " [ 38  43  51 ...  36  34  42]]\n"
     ]
    }
   ],
   "source": [
    "img = cv2.imread('data/1.jpeg',0)\n",
    "print(img)"
   ]
  },
  {
   "cell_type": "code",
   "execution_count": 17,
   "metadata": {},
   "outputs": [],
   "source": [
    "cv2.imshow('data image', img)\n",
    "key = cv2.waitKey(0) & 0xFF\n",
    "\n",
    "#esc to remove and s press to save the picture \n",
    "\n",
    "if key==27:\n",
    "    cv2.destroyAllWindows()\n",
    "elif key == ord('s'):\n",
    "    cv2.imwrite('copy.jpeg', img)\n",
    "    cv2.destroyAllWindows()"
   ]
  },
  {
   "cell_type": "code",
   "execution_count": null,
   "metadata": {},
   "outputs": [],
   "source": []
  }
 ],
 "metadata": {
  "kernelspec": {
   "display_name": "Python 3",
   "language": "python",
   "name": "python3"
  },
  "language_info": {
   "codemirror_mode": {
    "name": "ipython",
    "version": 3
   },
   "file_extension": ".py",
   "mimetype": "text/x-python",
   "name": "python",
   "nbconvert_exporter": "python",
   "pygments_lexer": "ipython3",
   "version": "3.7.3"
  }
 },
 "nbformat": 4,
 "nbformat_minor": 2
}
